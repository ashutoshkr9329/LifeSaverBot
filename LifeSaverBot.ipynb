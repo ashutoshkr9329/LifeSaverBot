{
 "cells": [
  {
   "cell_type": "code",
   "execution_count": null,
   "id": "b9d50e88",
   "metadata": {},
   "outputs": [],
   "source": [
    "#Following is a try to use the power of gpt-3.5 model and show how it can be used in prompt"
   ]
  },
  {
   "cell_type": "code",
   "execution_count": 19,
   "id": "1afc17f1",
   "metadata": {
    "scrolled": true
   },
   "outputs": [
    {
     "name": "stdout",
     "output_type": "stream",
     "text": [
      "Requirement already satisfied: openai in ./opt/anaconda3/lib/python3.8/site-packages (0.28.0)\n",
      "Requirement already satisfied: tqdm in ./opt/anaconda3/lib/python3.8/site-packages (from openai) (4.59.0)\n",
      "Requirement already satisfied: aiohttp in ./opt/anaconda3/lib/python3.8/site-packages (from openai) (3.8.5)\n",
      "Requirement already satisfied: requests>=2.20 in ./opt/anaconda3/lib/python3.8/site-packages (from openai) (2.25.1)\n",
      "Requirement already satisfied: urllib3<1.27,>=1.21.1 in ./opt/anaconda3/lib/python3.8/site-packages (from requests>=2.20->openai) (1.26.4)\n",
      "Requirement already satisfied: idna<3,>=2.5 in ./opt/anaconda3/lib/python3.8/site-packages (from requests>=2.20->openai) (2.10)\n",
      "Requirement already satisfied: chardet<5,>=3.0.2 in ./opt/anaconda3/lib/python3.8/site-packages (from requests>=2.20->openai) (4.0.0)\n",
      "Requirement already satisfied: certifi>=2017.4.17 in ./opt/anaconda3/lib/python3.8/site-packages (from requests>=2.20->openai) (2020.12.5)\n",
      "Requirement already satisfied: attrs>=17.3.0 in ./opt/anaconda3/lib/python3.8/site-packages (from aiohttp->openai) (20.3.0)\n",
      "Requirement already satisfied: async-timeout<5.0,>=4.0.0a3 in ./opt/anaconda3/lib/python3.8/site-packages (from aiohttp->openai) (4.0.3)\n",
      "Requirement already satisfied: charset-normalizer<4.0,>=2.0 in ./opt/anaconda3/lib/python3.8/site-packages (from aiohttp->openai) (3.2.0)\n",
      "Requirement already satisfied: frozenlist>=1.1.1 in ./opt/anaconda3/lib/python3.8/site-packages (from aiohttp->openai) (1.4.0)\n",
      "Requirement already satisfied: multidict<7.0,>=4.5 in ./opt/anaconda3/lib/python3.8/site-packages (from aiohttp->openai) (6.0.4)\n",
      "Requirement already satisfied: aiosignal>=1.1.2 in ./opt/anaconda3/lib/python3.8/site-packages (from aiohttp->openai) (1.3.1)\n",
      "Requirement already satisfied: yarl<2.0,>=1.0 in ./opt/anaconda3/lib/python3.8/site-packages (from aiohttp->openai) (1.9.2)\n",
      "Requirement already satisfied: panel in ./opt/anaconda3/lib/python3.8/site-packages (1.2.2)\n",
      "Requirement already satisfied: markdown-it-py in ./opt/anaconda3/lib/python3.8/site-packages (from panel) (3.0.0)\n",
      "Requirement already satisfied: pyviz-comms>=0.7.4 in ./opt/anaconda3/lib/python3.8/site-packages (from panel) (3.0.0)\n",
      "Requirement already satisfied: typing-extensions in ./opt/anaconda3/lib/python3.8/site-packages (from panel) (4.5.0)\n",
      "Requirement already satisfied: requests in ./opt/anaconda3/lib/python3.8/site-packages (from panel) (2.25.1)\n",
      "Requirement already satisfied: tqdm>=4.48.0 in ./opt/anaconda3/lib/python3.8/site-packages (from panel) (4.59.0)\n",
      "Requirement already satisfied: linkify-it-py in ./opt/anaconda3/lib/python3.8/site-packages (from panel) (2.0.2)\n",
      "Requirement already satisfied: markdown in ./opt/anaconda3/lib/python3.8/site-packages (from panel) (3.4.4)\n",
      "Requirement already satisfied: pandas>=1.2 in ./opt/anaconda3/lib/python3.8/site-packages (from panel) (1.2.4)\n",
      "Requirement already satisfied: bleach in ./opt/anaconda3/lib/python3.8/site-packages (from panel) (3.3.0)\n",
      "Requirement already satisfied: param>=1.12.0 in ./opt/anaconda3/lib/python3.8/site-packages (from panel) (1.13.0)\n",
      "Requirement already satisfied: bokeh<3.3.0,>=3.1.1 in ./opt/anaconda3/lib/python3.8/site-packages (from panel) (3.1.1)\n",
      "Requirement already satisfied: mdit-py-plugins in ./opt/anaconda3/lib/python3.8/site-packages (from panel) (0.4.0)\n",
      "Requirement already satisfied: xyzservices>=2021.09.1 in ./opt/anaconda3/lib/python3.8/site-packages (from panel) (2023.2.0)\n",
      "Requirement already satisfied: packaging>=16.8 in ./opt/anaconda3/lib/python3.8/site-packages (from bokeh<3.3.0,>=3.1.1->panel) (20.9)\n",
      "Requirement already satisfied: Jinja2>=2.9 in ./opt/anaconda3/lib/python3.8/site-packages (from bokeh<3.3.0,>=3.1.1->panel) (2.11.3)\n",
      "Requirement already satisfied: contourpy>=1 in ./opt/anaconda3/lib/python3.8/site-packages (from bokeh<3.3.0,>=3.1.1->panel) (1.0.7)\n",
      "Requirement already satisfied: tornado>=5.1 in ./opt/anaconda3/lib/python3.8/site-packages (from bokeh<3.3.0,>=3.1.1->panel) (6.1)\n",
      "Requirement already satisfied: pillow>=7.1.0 in ./opt/anaconda3/lib/python3.8/site-packages (from bokeh<3.3.0,>=3.1.1->panel) (8.2.0)\n",
      "Requirement already satisfied: numpy>=1.16 in ./opt/anaconda3/lib/python3.8/site-packages (from bokeh<3.3.0,>=3.1.1->panel) (1.20.1)\n",
      "Requirement already satisfied: PyYAML>=3.10 in ./opt/anaconda3/lib/python3.8/site-packages (from bokeh<3.3.0,>=3.1.1->panel) (5.4.1)\n",
      "Requirement already satisfied: MarkupSafe>=0.23 in ./opt/anaconda3/lib/python3.8/site-packages (from Jinja2>=2.9->bokeh<3.3.0,>=3.1.1->panel) (1.1.1)\n",
      "Requirement already satisfied: pyparsing>=2.0.2 in ./opt/anaconda3/lib/python3.8/site-packages (from packaging>=16.8->bokeh<3.3.0,>=3.1.1->panel) (2.4.7)\n",
      "Requirement already satisfied: python-dateutil>=2.7.3 in ./opt/anaconda3/lib/python3.8/site-packages (from pandas>=1.2->panel) (2.8.1)\n",
      "Requirement already satisfied: pytz>=2017.3 in ./opt/anaconda3/lib/python3.8/site-packages (from pandas>=1.2->panel) (2021.1)\n",
      "Requirement already satisfied: six>=1.5 in ./opt/anaconda3/lib/python3.8/site-packages (from python-dateutil>=2.7.3->pandas>=1.2->panel) (1.15.0)\n",
      "Requirement already satisfied: webencodings in ./opt/anaconda3/lib/python3.8/site-packages (from bleach->panel) (0.5.1)\n",
      "Requirement already satisfied: uc-micro-py in ./opt/anaconda3/lib/python3.8/site-packages (from linkify-it-py->panel) (1.0.2)\n",
      "Requirement already satisfied: importlib-metadata>=4.4 in ./opt/anaconda3/lib/python3.8/site-packages (from markdown->panel) (6.8.0)\n",
      "Requirement already satisfied: zipp>=0.5 in ./opt/anaconda3/lib/python3.8/site-packages (from importlib-metadata>=4.4->markdown->panel) (3.4.1)\n",
      "Requirement already satisfied: mdurl~=0.1 in ./opt/anaconda3/lib/python3.8/site-packages (from markdown-it-py->panel) (0.1.2)\n",
      "Requirement already satisfied: idna<3,>=2.5 in ./opt/anaconda3/lib/python3.8/site-packages (from requests->panel) (2.10)\n",
      "Requirement already satisfied: chardet<5,>=3.0.2 in ./opt/anaconda3/lib/python3.8/site-packages (from requests->panel) (4.0.0)\n",
      "Requirement already satisfied: urllib3<1.27,>=1.21.1 in ./opt/anaconda3/lib/python3.8/site-packages (from requests->panel) (1.26.4)\n",
      "Requirement already satisfied: certifi>=2017.4.17 in ./opt/anaconda3/lib/python3.8/site-packages (from requests->panel) (2020.12.5)\n"
     ]
    }
   ],
   "source": [
    "#Install required packages\n",
    "!pip install openai\n",
    "!pip install panel\n"
   ]
  },
  {
   "cell_type": "markdown",
   "id": "0e0b00ca",
   "metadata": {},
   "source": [
    "# First you need to have a subscribed billing plan to call open-ai to make calls to open ai openai.ChatCompletion.create() method"
   ]
  },
  {
   "cell_type": "markdown",
   "id": "f971e812",
   "metadata": {},
   "source": [
    "For billing, go here: https://platform.openai.com/account/billing/overview\n",
    "For Creating API to create a secret key, by clicking on \"Create new secret key here.\"\n",
    ":https://platform.openai.com/account/api-keys"
   ]
  },
  {
   "cell_type": "markdown",
   "id": "c7e02438",
   "metadata": {},
   "source": [
    "Copy this newly created secret key and replace it with the below text: YOUR_API_KEY"
   ]
  },
  {
   "cell_type": "code",
   "execution_count": 14,
   "id": "683a7fb5",
   "metadata": {},
   "outputs": [],
   "source": [
    "import openai\n",
    "openai.api_key=\"YOUR_API_KEY\""
   ]
  },
  {
   "cell_type": "code",
   "execution_count": null,
   "id": "667b3167",
   "metadata": {},
   "outputs": [],
   "source": []
  },
  {
   "cell_type": "code",
   "execution_count": 15,
   "id": "96df0baa",
   "metadata": {},
   "outputs": [],
   "source": [
    "def get_completion(prompt, model=\"gpt-3.5-turbo\"):\n",
    "    messages = [{\"role\": \"user\", \"content\": prompt}]\n",
    "    response = openai.ChatCompletion.create(\n",
    "        model=model,\n",
    "        messages=messages,\n",
    "        temperature=0, # this is the degree of randomness of the model's output\n",
    "    )\n",
    "    return response.choices[0].message[\"content\"]\n",
    "\n",
    "def get_completion_from_messages(messages, model=\"gpt-3.5-turbo\", temperature=0):\n",
    "    response = openai.ChatCompletion.create(\n",
    "        model=model,\n",
    "        messages=messages,\n",
    "        temperature=temperature, # this is the degree of randomness of the model's output\n",
    "    )\n",
    "#     print(str(response.choices[0].message))\n",
    "    return response.choices[0].message[\"content\"]"
   ]
  },
  {
   "cell_type": "code",
   "execution_count": 16,
   "id": "6e57c9f9",
   "metadata": {},
   "outputs": [],
   "source": [
    "def collect_messages(_):\n",
    "    prompt = inp.value_input\n",
    "    inp.value = ''\n",
    "    context.append({'role':'user', 'content':f\"{prompt}\"})\n",
    "    response = get_completion_from_messages(context) \n",
    "    context.append({'role':'assistant', 'content':f\"{response}\"})\n",
    "    panels.append(\n",
    "        pn.Row('User:', pn.pane.Markdown(prompt, width=600)))\n",
    "    panels.append(\n",
    "        pn.Row('Assistant:', pn.pane.Markdown(response, width=600, style={'background-color': '#F6F6F6'})))\n",
    " \n",
    "    return pn.Column(*panels)\n"
   ]
  },
  {
   "cell_type": "code",
   "execution_count": null,
   "id": "5ca3d1ad",
   "metadata": {
    "scrolled": false
   },
   "outputs": [],
   "source": [
    "import panel as pn  # GUI\n",
    "pn.extension()\n",
    "\n",
    "panels = [] # collect display \n",
    "#'content': here can be according to the use cases\n",
    "context = [ {'role':'system', 'content':\"\"\"\n",
    "You are LifeSaverBot, an automated service to stop people from trying to attempt sucide. \\\n",
    "You first Empathetically greet the person, then Console them, \\\n",
    "and then provide support and that it understands the user might be going through a difficult time.  \\\n",
    "You Allow users to express their feelings and thoughts. Provide prompts like,\\\n",
    "\"Would you like to talk about what's been bothering you? \\\n",
    "then Offer information about professional help, crisis hotlines,\\\n",
    "and mental health resources. Share something like, \"It's important to reach out to a mental health professional.\\\n",
    "In the meantime, here are some resources you can consider...\" \\\n",
    "Don’t act judge mental and try to be understanding.\\\n",
    "And Avoid making any assumptions about the user's situation or feelings. \\\n",
    "If the user expresses immediate suicidal thoughts or intentions,\\\n",
    "provide a crisis intervention response. Say something like,\\\n",
    "\"I'm really concerned about your safety. It's crucial to talk to someone who\\\n",
    "can help you right now. Please reach this website [http://www.aasra.info/helpline.html] at [91-9820466726].\".\\\n",
    "Assure users that the conversation is private and confidential,\\\n",
    "but also emphasize the importance of seeking professional help. \\\n",
    "try to give self-care tips or encouragement \\\n",
    "If the user wishes, ask if it's okay to follow up with them \\\n",
    "later to check on their well-being. \\\n",
    "Conclude the conversation on a positive and supportive note,\\\n",
    "such as, \"Remember, you're not alone in this. Reach out to your loved ones\\\n",
    "and consider professional help. Take care.\" \\\n",
    "\"\"\"} ]  # accumulate messages\n",
    "\n",
    "\n",
    "inp = pn.widgets.TextInput(value=\"Hi\", placeholder='Enter text here…')\n",
    "button_conversation = pn.widgets.Button(name=\"Chat!\")\n",
    "\n",
    "interactive_conversation = pn.bind(collect_messages, button_conversation)\n",
    "\n",
    "dashboard = pn.Column(\n",
    "    inp,\n",
    "    pn.Row(button_conversation),\n",
    "    pn.panel(interactive_conversation, loading_indicator=True, height=300),\n",
    ")\n",
    "\n",
    "dashboard\n"
   ]
  },
  {
   "cell_type": "code",
   "execution_count": null,
   "id": "49a321d9",
   "metadata": {
    "scrolled": true
   },
   "outputs": [],
   "source": []
  },
  {
   "cell_type": "code",
   "execution_count": null,
   "id": "d2f6b87a",
   "metadata": {},
   "outputs": [],
   "source": []
  }
 ],
 "metadata": {
  "kernelspec": {
   "display_name": "Python 3",
   "language": "python",
   "name": "python3"
  },
  "language_info": {
   "codemirror_mode": {
    "name": "ipython",
    "version": 3
   },
   "file_extension": ".py",
   "mimetype": "text/x-python",
   "name": "python",
   "nbconvert_exporter": "python",
   "pygments_lexer": "ipython3",
   "version": "3.8.8"
  }
 },
 "nbformat": 4,
 "nbformat_minor": 5
}
